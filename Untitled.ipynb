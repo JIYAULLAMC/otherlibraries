{
 "cells": [
  {
   "cell_type": "code",
   "execution_count": 2,
   "id": "af2cbfa6",
   "metadata": {},
   "outputs": [
    {
     "name": "stdout",
     "output_type": "stream",
     "text": [
      "[1, 2, 4, 5, 7, 8]\n"
     ]
    }
   ],
   "source": [
    "# write a program to sort the numbers\n",
    "nums = [5, 4, 1, 7, 8, 2]\n",
    "for i in range(len(nums)):\n",
    "  for j in range(i+1, len(nums)):\n",
    "    small = nums[i]\n",
    "    if small > nums[j]:\n",
    "      nums[i] = nums[j]\n",
    "      nums[j] = small\n",
    "\n",
    "print(nums)\n",
    "\n",
    "    "
   ]
  },
  {
   "cell_type": "code",
   "execution_count": null,
   "id": "7bf20ee5",
   "metadata": {},
   "outputs": [],
   "source": []
  }
 ],
 "metadata": {
  "kernelspec": {
   "display_name": "Python 3 (ipykernel)",
   "language": "python",
   "name": "python3"
  },
  "language_info": {
   "codemirror_mode": {
    "name": "ipython",
    "version": 3
   },
   "file_extension": ".py",
   "mimetype": "text/x-python",
   "name": "python",
   "nbconvert_exporter": "python",
   "pygments_lexer": "ipython3",
   "version": "3.10.6"
  }
 },
 "nbformat": 4,
 "nbformat_minor": 5
}
